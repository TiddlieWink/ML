{
  "nbformat": 4,
  "nbformat_minor": 0,
  "metadata": {
    "colab": {
      "name": "Umoja Team ANN with TensorFlow.ipynb",
      "provenance": [],
      "collapsed_sections": [],
      "toc_visible": true
    },
    "kernelspec": {
      "name": "python3",
      "display_name": "Python 3"
    }
  },
  "cells": [
    {
      "cell_type": "code",
      "metadata": {
        "id": "i--MrrIgxZfD"
      },
      "source": [
        "import pandas as pd\n",
        "import numpy as np\n",
        "import matplotlib.pyplot as plt\n",
        "import seaborn as sns\n",
        "import tensorflow as tf\n",
        "\n",
        "from sklearn.model_selection import train_test_split\n",
        "\n",
        "import tensorflow_hub as hub\n",
        "import tensorflow_datasets as tfds\n",
        "from tensorflow import keras\n",
        "from tensorflow.keras.layers import Activation, Dense, Embedding\n",
        "from tensorflow.keras.optimizers import Adam\n",
        "from tensorflow.keras.preprocessing.text import Tokenizer\n",
        "from tensorflow.keras.preprocessing.sequence import pad_sequences\n",
        "from tensorflow.keras import Model, Sequential\n",
        "from tensorflow.keras.layers.experimental.preprocessing import TextVectorization\n",
        "\n",
        "import os\n",
        "import re\n",
        "import nltk\n",
        "import string\n",
        "from nltk.stem import WordNetLemmatizer\n",
        "from nltk.corpus import stopwords\n",
        "\n",
        "from google.colab import files\n",
        "\n",
        "import dill\n"
      ],
      "execution_count": null,
      "outputs": []
    },
    {
      "cell_type": "markdown",
      "metadata": {
        "id": "8y1Ft1BbHaW6"
      },
      "source": [
        "# Download NLTK Data\n"
      ]
    },
    {
      "cell_type": "code",
      "metadata": {
        "id": "TRTanfaiylxY",
        "colab": {
          "base_uri": "https://localhost:8080/",
          "height": 146
        },
        "outputId": "ef762bb7-44aa-4503-92b7-d09fe9b5bc56"
      },
      "source": [
        "nltk.download(\"stopwords\")\n",
        "stop_words = set(stopwords.words('english'))\n",
        "wordnet_lemmatizer = WordNetLemmatizer()\n",
        "nltk.download('wordnet')\n",
        "nltk.download(\"punkt\")"
      ],
      "execution_count": null,
      "outputs": [
        {
          "output_type": "stream",
          "text": [
            "[nltk_data] Downloading package stopwords to /root/nltk_data...\n",
            "[nltk_data]   Package stopwords is already up-to-date!\n",
            "[nltk_data] Downloading package wordnet to /root/nltk_data...\n",
            "[nltk_data]   Package wordnet is already up-to-date!\n",
            "[nltk_data] Downloading package punkt to /root/nltk_data...\n",
            "[nltk_data]   Package punkt is already up-to-date!\n"
          ],
          "name": "stdout"
        },
        {
          "output_type": "execute_result",
          "data": {
            "text/plain": [
              "True"
            ]
          },
          "metadata": {
            "tags": []
          },
          "execution_count": 7
        }
      ]
    },
    {
      "cell_type": "markdown",
      "metadata": {
        "id": "_grrjhokHk8a"
      },
      "source": [
        "# Define Helper Functions\n"
      ]
    },
    {
      "cell_type": "code",
      "metadata": {
        "id": "TMXJ0vby0J4Y"
      },
      "source": [
        "#Cleans Text\n",
        "def normalizer(tweet):\n",
        "    no_urls = re.sub(r\"http\\S+\", \" \" ,tweet)\n",
        "    only_letters = re.sub(\"[^a-zA-Z]\", \" \",no_urls)\n",
        "    tokens = nltk.word_tokenize(only_letters)[2 :]\n",
        "    lower_case = [l.lower() for l in tokens]\n",
        "    filtered_result = list(filter(lambda l: l not in stop_words, lower_case))\n",
        "    #lemmas = [wordnet_lemmatizer.lemmatize(t) for t in filtered_result]\n",
        "    return filtered_result\n",
        "\n",
        "#Generate Plots for Model\n",
        "def plot_graphs(history, metric):\n",
        "  plt.figure( figsize=(16,12))\n",
        "  plt.rcParams.update({'font.size': 22})\n",
        "  plt.plot(history.history[metric])\n",
        "  #plt.plot(history.history['val_'+metric], '')\n",
        "  plt.xlabel(\"Epochs\")\n",
        "  plt.ylabel(metric)\n",
        "  plt.legend([metric, 'val_'+metric])\n",
        "  plt.show()\n",
        "\n",
        "#make a prediction on input text\n",
        "def predict_on_text(text):\n",
        "  \n",
        "  test_text = np.array([text])\n",
        "  test_df =  pd.DataFrame(test_text, columns = ['text'])\n",
        "\n",
        "  test_df['normalized_tweet'] = test_df.text.apply(normalizer)\n",
        "  X = test_df[\"normalized_tweet\"].astype(str)\n",
        "\n",
        "  df = token.texts_to_sequences(X)\n",
        "\n",
        "  df = tf.keras.preprocessing.sequence.pad_sequences(df, maxlen=max_length)\n",
        "\n",
        "  prediction = np.round(model.predict(df)[0][0])\n",
        "\n",
        "  if prediction:\n",
        "\n",
        "    return \"This is about Sports.\"\n",
        "\n",
        "  else:\n",
        "\n",
        "    return \"This is not about Sports.\"\n",
        "\n",
        "# compute accuracy\n",
        "def accuracy(y, y_hat):\n",
        "\n",
        "  acc = np.mean(y == y_hat)\n",
        "\n",
        "  print('The accuracy is: ' + str(acc))\n",
        "\n",
        "#generates confusion matrix\n",
        "def confusionMatrix(ys,preds):\n",
        "    \n",
        "    N = len(ys)\n",
        "    #Generate empty matrix\n",
        "    confuse = np.zeros((2,2),dtype=int)\n",
        "    \n",
        "    #loop through both arrays\n",
        "    for i in range(N):\n",
        "    \n",
        "      #increase count in entry of each label\n",
        "      confuse[ys[i],int(preds[i])] = confuse[ys[i],int(preds[i])] + 1\n",
        "    \n",
        "    #return as dataframe\n",
        "    return pd.DataFrame(confuse)"
      ],
      "execution_count": null,
      "outputs": []
    },
    {
      "cell_type": "markdown",
      "metadata": {
        "id": "hdYCO_lIHUq9"
      },
      "source": [
        "# Read in Data and Clean\n"
      ]
    },
    {
      "cell_type": "code",
      "metadata": {
        "id": "RIE6YI9KyXj3"
      },
      "source": [
        "#uploaded = files.upload()\n",
        "\n",
        "df = pd.read_csv(\"/content/Reddit Data.csv\")\n",
        "\n",
        "#map data labels to 0 or 1 \n",
        "df.label = df[\"label\"].replace({\"not_sports\":0,\"sports\":1})\n",
        "\n",
        "#add cleaned data to the DataFrame\n",
        "df['normalized_tweet'] = df.title.apply(normalizer)\n",
        "\n",
        "#seperate X and y out as DataFrames\n",
        "X = df[\"normalized_tweet\"].astype(str)\n",
        "y = df[\"label\"]"
      ],
      "execution_count": null,
      "outputs": []
    },
    {
      "cell_type": "code",
      "metadata": {
        "id": "nwUVEtnx4Thi"
      },
      "source": [
        "max_features = 50000 #we set maximum number of words to 5000\n",
        "max_length = 100 #we set maximum sequence length to 400\n",
        "embedding_dim = 50 \n",
        "\n",
        "token = tf.keras.preprocessing.text.Tokenizer(num_words=max_features) \n",
        "token.fit_on_texts(X)\n",
        "\n",
        "vocab_size = len(token.word_index) + 1 \n",
        "\n",
        "#conver X to a TensorFlow Type and add padding\n",
        "df = token.texts_to_sequences(X)\n",
        "df = tf.keras.preprocessing.sequence.pad_sequences(df, maxlen=max_length)\n"
      ],
      "execution_count": null,
      "outputs": []
    },
    {
      "cell_type": "code",
      "metadata": {
        "id": "P2shd7U7VZic",
        "colab": {
          "base_uri": "https://localhost:8080/",
          "height": 35
        },
        "outputId": "ec1e7997-07d4-4086-bba1-ef72048c5dda"
      },
      "source": [
        "print(max_length)"
      ],
      "execution_count": null,
      "outputs": [
        {
          "output_type": "stream",
          "text": [
            "100\n"
          ],
          "name": "stdout"
        }
      ]
    },
    {
      "cell_type": "markdown",
      "metadata": {
        "id": "r-e0rA10Kt2r"
      },
      "source": [
        "# Split Data"
      ]
    },
    {
      "cell_type": "code",
      "metadata": {
        "id": "2EeyW6mJ4pIa"
      },
      "source": [
        "X_train, X_test, y_train, y_test = train_test_split(df, y,test_size=0.15,random_state=101)\n",
        "\n",
        "X_train, X_val, y_train, y_val = train_test_split(X_train, y_train, test_size=0.10, random_state=1)"
      ],
      "execution_count": null,
      "outputs": []
    },
    {
      "cell_type": "markdown",
      "metadata": {
        "id": "soMX1BhTKy15"
      },
      "source": [
        "# Build Model"
      ]
    },
    {
      "cell_type": "code",
      "metadata": {
        "id": "YN7aSbar-Be9",
        "colab": {
          "base_uri": "https://localhost:8080/",
          "height": 274
        },
        "outputId": "b3f96727-1387-41db-b519-9440d1ed55ea"
      },
      "source": [
        "model = tf.keras.models.Sequential([tf.keras.layers.Embedding(\n",
        "                                                              input_dim=vocab_size,\n",
        "                                                              output_dim=embedding_dim,\n",
        "                                                              input_length=max_length\n",
        "                                    ),\n",
        "\n",
        "                                    tf.keras.layers.Flatten(), #flatten layer\n",
        "\n",
        "                                    tf.keras.layers.Dense(1, activation=tf.nn.sigmoid)\n",
        "\n",
        "                                    ])\n",
        "\n",
        "model.compile(optimizer=\"adam\",\n",
        "              loss= tf.keras.losses.BinaryCrossentropy(from_logits=True),\n",
        "              metrics = [\"accuracy\"]\n",
        "              )\n",
        "\n",
        "model.summary()"
      ],
      "execution_count": null,
      "outputs": [
        {
          "output_type": "stream",
          "text": [
            "Model: \"sequential\"\n",
            "_________________________________________________________________\n",
            "Layer (type)                 Output Shape              Param #   \n",
            "=================================================================\n",
            "embedding (Embedding)        (None, 100, 50)           662800    \n",
            "_________________________________________________________________\n",
            "flatten (Flatten)            (None, 5000)              0         \n",
            "_________________________________________________________________\n",
            "dense (Dense)                (None, 1)                 5001      \n",
            "=================================================================\n",
            "Total params: 667,801\n",
            "Trainable params: 667,801\n",
            "Non-trainable params: 0\n",
            "_________________________________________________________________\n"
          ],
          "name": "stdout"
        }
      ]
    },
    {
      "cell_type": "markdown",
      "metadata": {
        "id": "Jv6hOvzNLrpt"
      },
      "source": [
        "# Train Model"
      ]
    },
    {
      "cell_type": "code",
      "metadata": {
        "id": "5qSqTtgtHh_9",
        "colab": {
          "base_uri": "https://localhost:8080/",
          "height": 513
        },
        "outputId": "52a89cb1-b828-4f33-a6a5-57baac2aebed"
      },
      "source": [
        "\n",
        "# Create a callback that saves the model's weights\n",
        "cp_callback = tf.keras.callbacks.ModelCheckpoint(filepath=\"ANN sports\",\n",
        "                                                 save_weights_only=True,\n",
        "                                                 verbose=1,\n",
        "                                                 period=12\n",
        "                                                 )\n",
        "\n",
        "history=model.fit(np.array(X_train), np.array(y_train), epochs=12, callbacks=[cp_callback]) "
      ],
      "execution_count": null,
      "outputs": [
        {
          "output_type": "stream",
          "text": [
            "WARNING:tensorflow:`period` argument is deprecated. Please use `save_freq` to specify the frequency in number of batches seen.\n",
            "Epoch 1/12\n",
            "289/289 [==============================] - 3s 11ms/step - loss: 0.5200 - accuracy: 0.9747\n",
            "Epoch 2/12\n",
            "289/289 [==============================] - 3s 10ms/step - loss: 0.5200 - accuracy: 0.9746\n",
            "Epoch 3/12\n",
            "289/289 [==============================] - 3s 10ms/step - loss: 0.5200 - accuracy: 0.9747\n",
            "Epoch 4/12\n",
            "289/289 [==============================] - 3s 10ms/step - loss: 0.5200 - accuracy: 0.9747\n",
            "Epoch 5/12\n",
            "289/289 [==============================] - 3s 10ms/step - loss: 0.5200 - accuracy: 0.9747\n",
            "Epoch 6/12\n",
            "289/289 [==============================] - 3s 10ms/step - loss: 0.5200 - accuracy: 0.9747\n",
            "Epoch 7/12\n",
            "289/289 [==============================] - 3s 10ms/step - loss: 0.5200 - accuracy: 0.9747\n",
            "Epoch 8/12\n",
            "289/289 [==============================] - 3s 9ms/step - loss: 0.5200 - accuracy: 0.9747\n",
            "Epoch 9/12\n",
            "289/289 [==============================] - 3s 9ms/step - loss: 0.5200 - accuracy: 0.9747\n",
            "Epoch 10/12\n",
            "289/289 [==============================] - 3s 9ms/step - loss: 0.5200 - accuracy: 0.9747\n",
            "Epoch 11/12\n",
            "289/289 [==============================] - 3s 10ms/step - loss: 0.5200 - accuracy: 0.9747\n",
            "Epoch 12/12\n",
            "288/289 [============================>.] - ETA: 0s - loss: 0.5201 - accuracy: 0.9746\n",
            "Epoch 00012: saving model to ANN sports\n",
            "289/289 [==============================] - 3s 10ms/step - loss: 0.5200 - accuracy: 0.9747\n"
          ],
          "name": "stdout"
        }
      ]
    },
    {
      "cell_type": "code",
      "metadata": {
        "id": "u5N0_JcGQCRn",
        "colab": {
          "base_uri": "https://localhost:8080/",
          "height": 54
        },
        "outputId": "7075410c-9034-4623-9620-f3c2f2986a03"
      },
      "source": [
        "model.evaluate(X_val,y_val)"
      ],
      "execution_count": null,
      "outputs": [
        {
          "output_type": "stream",
          "text": [
            "33/33 [==============================] - 0s 2ms/step - loss: 0.5705 - accuracy: 0.8667\n"
          ],
          "name": "stdout"
        },
        {
          "output_type": "execute_result",
          "data": {
            "text/plain": [
              "[0.570514976978302, 0.8667315244674683]"
            ]
          },
          "metadata": {
            "tags": []
          },
          "execution_count": 14
        }
      ]
    },
    {
      "cell_type": "code",
      "metadata": {
        "id": "L9Qpcp-MciNm",
        "colab": {
          "base_uri": "https://localhost:8080/",
          "height": 1000
        },
        "outputId": "438599b9-206d-4004-8e1c-656dedc54496"
      },
      "source": [
        "#plot graphs for training\n",
        "plot_graphs(history, 'accuracy')\n",
        "plot_graphs(history, 'loss')"
      ],
      "execution_count": null,
      "outputs": [
        {
          "output_type": "display_data",
          "data": {
            "image/png": "[encoded data removed]",
            "text/plain": [
              "<Figure size 1152x864 with 1 Axes>"
            ]
          },
          "metadata": {
            "tags": [],
            "needs_background": "light"
          }
        },
        {
          "output_type": "display_data",
          "data": {
            "image/png": "[encoded data removed]",
            "text/plain": [
              "<Figure size 1152x864 with 1 Axes>"
            ]
          },
          "metadata": {
            "tags": [],
            "needs_background": "light"
          }
        }
      ]
    },
    {
      "cell_type": "markdown",
      "metadata": {
        "id": "p0_LbIKSNvfM"
      },
      "source": [
        "# Model Testing and Metrics"
      ]
    },
    {
      "cell_type": "code",
      "metadata": {
        "id": "BjyJQUNdzWtW",
        "colab": {
          "base_uri": "https://localhost:8080/",
          "height": 35
        },
        "outputId": "524fe37b-d5b9-441a-de60-3b759bf28517"
      },
      "source": [
        "#predict on test data\n",
        "predictions = model.predict(X_test)\n",
        "predictions = predictions.reshape((1814,))\n",
        "predictions = np.round(predictions)\n",
        "\n",
        "#accuracy on test data\n",
        "accuracy(y_test , predictions)"
      ],
      "execution_count": null,
      "outputs": [
        {
          "output_type": "stream",
          "text": [
            "The accuracy is: 0.8875413450937155\n"
          ],
          "name": "stdout"
        }
      ]
    },
    {
      "cell_type": "code",
      "metadata": {
        "id": "sz-0tpIb5-2t",
        "colab": {
          "base_uri": "https://localhost:8080/",
          "height": 736
        },
        "outputId": "7527547b-93f8-4482-eee3-ddec76b88537"
      },
      "source": [
        "#Make Confusion Matrix\n",
        "ys = y_test.to_numpy()\n",
        "con = confusionMatrix(ys,predictions)\n",
        "fig1 = plt.figure(figsize=(16,12))\n",
        "plt.rcParams.update({'font.size': 22})\n",
        "ax = sns.heatmap(con, annot=True, cmap ='Blues_r' ,fmt='d')\n",
        "plt.title(\"Sports - Not-Sports Confusion Matrix\")\n",
        "plt.xlim(0, 2)\n",
        "plt.ylim(0, 2)\n",
        "plt.show()"
      ],
      "execution_count": null,
      "outputs": [
        {
          "output_type": "display_data",
          "data": {
            "image/png": "[encoded data removed]",
            "text/plain": [
              "<Figure size 1152x864 with 2 Axes>"
            ]
          },
          "metadata": {
            "tags": [],
            "needs_background": "light"
          }
        }
      ]
    },
    {
      "cell_type": "code",
      "metadata": {
        "id": "hyHi8xYX_356",
        "colab": {
          "base_uri": "https://localhost:8080/",
          "height": 54
        },
        "outputId": "47f0617c-d872-4e46-afed-61ed74c32821"
      },
      "source": [
        "#Calculate Specificity and Sensitivity \n",
        "con_mat = con.to_numpy()\n",
        "tn = con_mat[0,0]\n",
        "fn = con_mat[1,0]\n",
        "fp = con_mat[0,1]\n",
        "tp = con_mat[1,1]\n",
        "\n",
        "sensitivity =  tp/(tp+fn)\n",
        "specificity = tn /(tn+fp)\n",
        "\n",
        "print('The sensitivity is: ' + str(sensitivity))\n",
        "print('The specificity is: ' + str(specificity))"
      ],
      "execution_count": null,
      "outputs": [
        {
          "output_type": "stream",
          "text": [
            "The sensitivity is: 0.8412348401323043\n",
            "The specificity is: 0.9338478500551268\n"
          ],
          "name": "stdout"
        }
      ]
    },
    {
      "cell_type": "markdown",
      "metadata": {
        "id": "as4qralnP7R3"
      },
      "source": [
        "# Predict on New Text"
      ]
    },
    {
      "cell_type": "code",
      "metadata": {
        "id": "ny97OEMADZwl",
        "colab": {
          "base_uri": "https://localhost:8080/",
          "height": 35
        },
        "outputId": "5f922628-4f8f-4dfc-cc3e-320feda75b7c"
      },
      "source": [
        "test_text  = \"in football the bears beat the colts 40 to 1\"\n",
        "\n",
        "print(predict_on_text(test_text))"
      ],
      "execution_count": null,
      "outputs": [
        {
          "output_type": "stream",
          "text": [
            "This is about Sports.\n"
          ],
          "name": "stdout"
        }
      ]
    },
    {
      "cell_type": "code",
      "metadata": {
        "id": "U5zDe0u5OzwW"
      },
      "source": [
        "pip install -q pyyaml h5py"
      ],
      "execution_count": null,
      "outputs": []
    },
    {
      "cell_type": "code",
      "metadata": {
        "id": "nn7W6IebO0Nb",
        "colab": {
          "base_uri": "https://localhost:8080/",
          "height": 35
        },
        "outputId": "a2109549-d635-4200-9931-43d1650912f1"
      },
      "source": [
        "with open(\"token.pickle\", 'wb') as f:\n",
        "\n",
        "    dill.dump(token,f)\n",
        "model2 = tf.keras.models.load_model(\"/content/drive/My Drive/ANN Sports\")\n",
        "\n",
        "predictions = model2.predict(X_test)\n",
        "predictions = predictions.reshape((1814,))\n",
        "predictions = np.round(predictions)\n",
        "\n",
        "accuracy(y_test , predictions)"
      ],
      "execution_count": null,
      "outputs": [
        {
          "output_type": "stream",
          "text": [
            "The accuracy is: 0.8699007717750827\n"
          ],
          "name": "stdout"
        }
      ]
    },
    {
      "cell_type": "code",
      "metadata": {
        "id": "ikHXdpG3dpC5",
        "colab": {
          "base_uri": "https://localhost:8080/",
          "height": 166
        },
        "outputId": "89f77ef5-905f-4029-9424-92c199c6bc3f"
      },
      "source": [
        "model.save(\"ANN Sports\")"
      ],
      "execution_count": null,
      "outputs": [
        {
          "output_type": "stream",
          "text": [
            "WARNING:tensorflow:From /usr/local/lib/python3.6/dist-packages/tensorflow/python/training/tracking/tracking.py:111: Model.state_updates (from tensorflow.python.keras.engine.training) is deprecated and will be removed in a future version.\n",
            "Instructions for updating:\n",
            "This property should not be used in TensorFlow 2.0, as updates are applied automatically.\n",
            "WARNING:tensorflow:From /usr/local/lib/python3.6/dist-packages/tensorflow/python/training/tracking/tracking.py:111: Layer.updates (from tensorflow.python.keras.engine.base_layer) is deprecated and will be removed in a future version.\n",
            "Instructions for updating:\n",
            "This property should not be used in TensorFlow 2.0, as updates are applied automatically.\n",
            "INFO:tensorflow:Assets written to: ANN Sports/assets\n"
          ],
          "name": "stdout"
        }
      ]
    },
    {
      "cell_type": "code",
      "metadata": {
        "id": "E-M4DdDnd6rZ",
        "colab": {
          "base_uri": "https://localhost:8080/",
          "height": 35
        },
        "outputId": "ba2316fe-a919-4682-d779-5c0e53255be4"
      },
      "source": [
        "from google.colab import drive\n",
        "drive.mount('/content/drive')"
      ],
      "execution_count": null,
      "outputs": [
        {
          "output_type": "stream",
          "text": [
            "Mounted at /content/drive\n"
          ],
          "name": "stdout"
        }
      ]
    }
  ]
}